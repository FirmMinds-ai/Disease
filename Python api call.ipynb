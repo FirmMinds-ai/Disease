{
 "cells": [
  {
   "cell_type": "code",
   "execution_count": 10,
   "id": "061abc61",
   "metadata": {},
   "outputs": [],
   "source": [
    "import requests\n",
    "\n",
    "data =  {\n",
    "    \"data\" : [ 63.0,   1.0 ,   3.0 , 145.0 , 233.0 ,   1.0 ,   0.0 , 150.0 ,   0.0 ,\n",
    "         2.3,   0.0 ,   0.0 ,   1.0 ]\n",
    "}\n",
    "res = requests.post(url = \"https://diseaseapp1.herokuapp.com/pred1/\", json = data)\n"
   ]
  },
  {
   "cell_type": "code",
   "execution_count": 13,
   "id": "a38c5739",
   "metadata": {},
   "outputs": [
    {
     "data": {
      "text/plain": [
       "{'Prediction': 1}"
      ]
     },
     "execution_count": 13,
     "metadata": {},
     "output_type": "execute_result"
    }
   ],
   "source": [
    "res.json()"
   ]
  },
  {
   "cell_type": "code",
   "execution_count": null,
   "id": "0c1f3364",
   "metadata": {},
   "outputs": [],
   "source": []
  },
  {
   "cell_type": "code",
   "execution_count": null,
   "id": "5476e3ce",
   "metadata": {},
   "outputs": [],
   "source": []
  }
 ],
 "metadata": {
  "kernelspec": {
   "display_name": "Python 3",
   "language": "python",
   "name": "python3"
  },
  "language_info": {
   "codemirror_mode": {
    "name": "ipython",
    "version": 3
   },
   "file_extension": ".py",
   "mimetype": "text/x-python",
   "name": "python",
   "nbconvert_exporter": "python",
   "pygments_lexer": "ipython3",
   "version": "3.8.8"
  }
 },
 "nbformat": 4,
 "nbformat_minor": 5
}
